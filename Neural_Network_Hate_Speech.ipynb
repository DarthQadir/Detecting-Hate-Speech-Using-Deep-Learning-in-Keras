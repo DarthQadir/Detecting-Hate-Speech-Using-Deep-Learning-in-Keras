{
  "nbformat": 4,
  "nbformat_minor": 0,
  "metadata": {
    "colab": {
      "name": "Neural Network Hate Speech - Sikka Test.ipynb",
      "provenance": [],
      "toc_visible": true
    },
    "kernelspec": {
      "name": "python3",
      "display_name": "Python 3"
    },
    "language_info": {
      "name": "python"
    },
    "accelerator": "GPU"
  },
  "cells": [
    {
      "cell_type": "markdown",
      "metadata": {
        "id": "dPjS7iBkouSy"
      },
      "source": [
        "#I assume the following kaggle data zipefiles are in the working directory\n",
        "\n",
        "\n",
        "\n",
        "1.   train.csv.zip\n",
        "2.   test.csv.zip\n",
        "3.   test_labels.csv.zip\n"
      ]
    },
    {
      "cell_type": "markdown",
      "metadata": {
        "id": "OLlhiJMQox10"
      },
      "source": [
        "#Import libraries"
      ]
    },
    {
      "cell_type": "code",
      "metadata": {
        "id": "0wK5a5A-ozFH"
      },
      "source": [
        "from zipfile import ZipFile\n",
        "import numpy as np\n",
        "import pandas as pd\n",
        "from keras.preprocessing.text import Tokenizer\n",
        "from keras.preprocessing.sequence import pad_sequences\n",
        "from keras.layers import Dense, Input, LSTM, Embedding, Dropout, Activation\n",
        "from keras.layers import GlobalMaxPool1D\n",
        "from keras.models import Model\n",
        "from keras import initializers, regularizers, constraints, optimizers, layers\n",
        "from keras.callbacks import EarlyStopping, ModelCheckpoint\n",
        "from sklearn.metrics import roc_auc_score, accuracy_score\n",
        "from copy import deepcopy\n",
        "import tensorflow as tf\n"
      ],
      "execution_count": null,
      "outputs": []
    },
    {
      "cell_type": "markdown",
      "metadata": {
        "id": "JjodWFaQpAb2"
      },
      "source": [
        "#Extract zipfiles"
      ]
    },
    {
      "cell_type": "code",
      "metadata": {
        "id": "Zy8hN_38C9yk"
      },
      "source": [
        "\n",
        "zip_train = ZipFile('train.csv.zip')\n",
        "zip_train.extractall()\n",
        "\n",
        "zip_test = ZipFile('test.csv.zip')\n",
        "zip_test.extractall()\n",
        "\n",
        "zip_testlabels = ZipFile('test_labels.csv.zip')\n",
        "zip_testlabels.extractall()"
      ],
      "execution_count": null,
      "outputs": []
    },
    {
      "cell_type": "markdown",
      "metadata": {
        "id": "AjCcKYuVpDY6"
      },
      "source": [
        "#Read, filter and preprocess dataset"
      ]
    },
    {
      "cell_type": "code",
      "metadata": {
        "colab": {
          "base_uri": "https://localhost:8080/"
        },
        "id": "2Pa5Ye4dDAHT",
        "outputId": "b8658fbf-42e5-4e74-faa6-eb0cbc2d89ee"
      },
      "source": [
        "df_test = pd.read_csv('test.csv')\n",
        "df_testlabels = pd.read_csv('test_labels.csv')\n",
        "\n",
        "\n",
        "#Filter by rows used for scoring\n",
        "df_test_final = df_testlabels[(df_testlabels['toxic'] != -1) & (df_testlabels['severe_toxic'] != -1) & (df_testlabels['obscene'] != -1) &\n",
        "                              (df_testlabels['threat'] != -1) & (df_testlabels['insult'] != -1) & (df_testlabels['identity_hate'] != -1)]\n",
        "\n",
        "#Add the comment text to the labels dataset\n",
        "df_test_final['comment_text'] = df_test[df_test['id'].isin(df_testlabels['id'])]['comment_text']"
      ],
      "execution_count": null,
      "outputs": [
        {
          "output_type": "stream",
          "text": [
            "/usr/local/lib/python3.7/dist-packages/ipykernel_launcher.py:10: SettingWithCopyWarning: \n",
            "A value is trying to be set on a copy of a slice from a DataFrame.\n",
            "Try using .loc[row_indexer,col_indexer] = value instead\n",
            "\n",
            "See the caveats in the documentation: https://pandas.pydata.org/pandas-docs/stable/user_guide/indexing.html#returning-a-view-versus-a-copy\n",
            "  # Remove the CWD from sys.path while we load stuff.\n"
          ],
          "name": "stderr"
        }
      ]
    },
    {
      "cell_type": "code",
      "metadata": {
        "id": "YiBR9-X1DEod"
      },
      "source": [
        "#Read training data\n",
        "train = pd.read_csv('train.csv')\n",
        "\n",
        "#Use half the dataset due to ram constraints\n",
        "train = train[0:80000]"
      ],
      "execution_count": null,
      "outputs": []
    },
    {
      "cell_type": "code",
      "metadata": {
        "id": "nIIyzB8KGBVt"
      },
      "source": [
        "target_columns = [\"toxic\", \"severe_toxic\", \"obscene\", \"threat\", \"insult\", \"identity_hate\"]\n",
        "y = train[target_columns].values\n",
        "list_sentences_train = train[\"comment_text\"]\n",
        "list_sentences_test = df_test_final[\"comment_text\"]"
      ],
      "execution_count": null,
      "outputs": []
    },
    {
      "cell_type": "code",
      "metadata": {
        "id": "7vSksf8MGRQP"
      },
      "source": [
        "#Turn texts into sequences\n",
        "\n",
        "#Use 20000 features because it's a high number but not too high\n",
        "max_features = 20000\n",
        "tokenizer = Tokenizer(num_words=max_features)\n",
        "tokenizer.fit_on_texts(list(list_sentences_train))\n",
        "list_tokenized_train = tokenizer.texts_to_sequences(list_sentences_train)\n",
        "list_tokenized_test = tokenizer.texts_to_sequences(list_sentences_test)"
      ],
      "execution_count": null,
      "outputs": []
    },
    {
      "cell_type": "code",
      "metadata": {
        "colab": {
          "base_uri": "https://localhost:8080/",
          "height": 265
        },
        "id": "3m_IqiHdGwfU",
        "outputId": "2f5de14a-b342-4de3-a396-bb5809207f51"
      },
      "source": [
        "#We need to set the max length of the sentences in the comments so we plot\n",
        "#the distribution of words in the sentences to set the parameter\n",
        "\n",
        "import matplotlib.pyplot as plt\n",
        "totalNumWords = [len(one_comment) for one_comment in list_tokenized_train]\n",
        "plt.hist(totalNumWords,bins = np.arange(0,410,10))\n",
        "plt.show()"
      ],
      "execution_count": null,
      "outputs": [
        {
          "output_type": "display_data",
          "data": {
            "image/png": "[encoded data removed]",
            "text/plain": [
              "<Figure size 432x288 with 1 Axes>"
            ]
          },
          "metadata": {
            "tags": [],
            "needs_background": "light"
          }
        }
      ]
    },
    {
      "cell_type": "code",
      "metadata": {
        "id": "GVFyba0IG9Wz"
      },
      "source": [
        "#250 seems like a good number from the plot above\n",
        "maxlen = 250\n",
        "\n",
        "#Pad sentences with 0s which are not 250 words long\n",
        "x_train = pad_sequences(list_tokenized_train, maxlen=maxlen)\n",
        "x_test = pad_sequences(list_tokenized_test, maxlen=maxlen)"
      ],
      "execution_count": null,
      "outputs": []
    },
    {
      "cell_type": "markdown",
      "metadata": {
        "id": "kEG0frd_qThp"
      },
      "source": [
        "#Model creation\n",
        "\n",
        "I used manual embeddings for this case as the problem is very contextual and we are classifying hate speech. It should perform better than using external embeddings from GloVe, word2vec or Spacy.\n",
        "\n",
        "Moreover, I use an LSTM over a CNN because the categories besides toxic and severe_toxic have long term semantic features which can be used to detect them and an LSTM works better for contextual/semantic dependent classifications than CNNs."
      ]
    },
    {
      "cell_type": "code",
      "metadata": {
        "id": "8AlYGNoJG-rO"
      },
      "source": [
        "#Create our model architecture\n",
        "\n",
        "inp = Input(shape=(maxlen, ))\n",
        "embed_size = 256\n",
        "\n",
        "#Embedding layer to vectorize our data\n",
        "x = Embedding(max_features, embed_size)(inp)\n",
        "\n",
        "#Add the LSTM layer\n",
        "x = LSTM(60, return_sequences=True)(x)\n",
        "x = GlobalMaxPool1D()(x)\n",
        "\n",
        "#Add dropout to avoid overfitting\n",
        "x = Dropout(0.2)(x)\n",
        "x = Dense(50, activation=\"relu\")(x)\n",
        "\n",
        "#Add dropout to avoid overfitting\n",
        "x = Dropout(0.2)(x)\n",
        "\n",
        "#Sigmoid activation due to multi-label classification\n",
        "x = Dense(6, activation=\"sigmoid\")(x)\n",
        "model = Model(inputs=inp, outputs=x)\n",
        "\n",
        "#Binary cross entropy due to it being a multi-label classification problem\n",
        "model.compile(loss='binary_crossentropy',\n",
        "                  optimizer='adam',\n",
        "                  metrics=['accuracy'])"
      ],
      "execution_count": null,
      "outputs": []
    },
    {
      "cell_type": "code",
      "metadata": {
        "colab": {
          "base_uri": "https://localhost:8080/"
        },
        "id": "pghbuGFZUaL9",
        "outputId": "bf8d0637-5b8b-4928-d286-e36e8e312e76"
      },
      "source": [
        "model.summary()"
      ],
      "execution_count": null,
      "outputs": [
        {
          "output_type": "stream",
          "text": [
            "Model: \"model\"\n",
            "_________________________________________________________________\n",
            "Layer (type)                 Output Shape              Param #   \n",
            "=================================================================\n",
            "input_1 (InputLayer)         [(None, 250)]             0         \n",
            "_________________________________________________________________\n",
            "embedding (Embedding)        (None, 250, 256)          5120000   \n",
            "_________________________________________________________________\n",
            "lstm (LSTM)                  (None, 250, 60)           76080     \n",
            "_________________________________________________________________\n",
            "global_max_pooling1d (Global (None, 60)                0         \n",
            "_________________________________________________________________\n",
            "dropout (Dropout)            (None, 60)                0         \n",
            "_________________________________________________________________\n",
            "dense (Dense)                (None, 50)                3050      \n",
            "_________________________________________________________________\n",
            "dropout_1 (Dropout)          (None, 50)                0         \n",
            "_________________________________________________________________\n",
            "dense_1 (Dense)              (None, 6)                 306       \n",
            "=================================================================\n",
            "Total params: 5,199,436\n",
            "Trainable params: 5,199,436\n",
            "Non-trainable params: 0\n",
            "_________________________________________________________________\n"
          ],
          "name": "stdout"
        }
      ]
    },
    {
      "cell_type": "code",
      "metadata": {
        "colab": {
          "base_uri": "https://localhost:8080/"
        },
        "id": "_1VNoZvfHTgl",
        "outputId": "471e7a55-0558-4244-ade3-ff7700868222"
      },
      "source": [
        "#I don't train the model for long since this notebook is just\n",
        "#to showcase understanding of deep learning\n",
        "\n",
        "epochs = 5\n",
        "batch_size = 30\n",
        "\n",
        "weights_path =\"best_weights.hdf5\"\n",
        "checkpoint = ModelCheckpoint(weights_path, monitor='val_loss', verbose=1, save_best_only=True, mode='min')\n",
        "\n",
        "early = EarlyStopping(monitor=\"val_loss\", mode=\"min\", patience=20)\n",
        "\n",
        "callbacks_list = [checkpoint, early]\n",
        "history = model.fit(x_train, y, batch_size=batch_size, epochs=epochs, validation_split=0.15, callbacks=callbacks_list)"
      ],
      "execution_count": null,
      "outputs": [
        {
          "output_type": "stream",
          "text": [
            "Epoch 1/5\n",
            "2267/2267 [==============================] - 187s 68ms/step - loss: 0.1277 - accuracy: 0.7522 - val_loss: 0.0527 - val_accuracy: 0.9940\n",
            "\n",
            "Epoch 00001: val_loss improved from inf to 0.05274, saving model to best_weights.hdf5\n",
            "Epoch 2/5\n",
            "2267/2267 [==============================] - 154s 68ms/step - loss: 0.0475 - accuracy: 0.9843 - val_loss: 0.0493 - val_accuracy: 0.9940\n",
            "\n",
            "Epoch 00002: val_loss improved from 0.05274 to 0.04929, saving model to best_weights.hdf5\n",
            "Epoch 3/5\n",
            "2267/2267 [==============================] - 154s 68ms/step - loss: 0.0403 - accuracy: 0.9706 - val_loss: 0.0499 - val_accuracy: 0.9921\n",
            "\n",
            "Epoch 00003: val_loss did not improve from 0.04929\n",
            "Epoch 4/5\n",
            "2267/2267 [==============================] - 153s 68ms/step - loss: 0.0351 - accuracy: 0.9351 - val_loss: 0.0524 - val_accuracy: 0.9939\n",
            "\n",
            "Epoch 00004: val_loss did not improve from 0.04929\n",
            "Epoch 5/5\n",
            "2267/2267 [==============================] - 153s 67ms/step - loss: 0.0299 - accuracy: 0.8559 - val_loss: 0.0563 - val_accuracy: 0.8540\n",
            "\n",
            "Epoch 00005: val_loss did not improve from 0.04929\n"
          ],
          "name": "stdout"
        }
      ]
    },
    {
      "cell_type": "code",
      "metadata": {
        "colab": {
          "base_uri": "https://localhost:8080/",
          "height": 573
        },
        "id": "MQFJx0GTjfc9",
        "outputId": "55d41357-5f63-40f6-e77e-92cb0d75e0f0"
      },
      "source": [
        "plt.plot(history.history['accuracy'])\n",
        "plt.plot(history.history['val_accuracy'])\n",
        "plt.title('model accuracy')\n",
        "plt.ylabel('accuracy')\n",
        "plt.xlabel('epoch')\n",
        "plt.legend(['train', 'val'], loc='upper left')\n",
        "plt.show()\n",
        "\n",
        "plt.plot(history.history['loss'])\n",
        "plt.plot(history.history['val_loss'])\n",
        "plt.title('model loss')\n",
        "plt.ylabel('loss')\n",
        "plt.xlabel('epoch')\n",
        "plt.legend(['train', 'val'], loc='upper left')\n",
        "plt.show()"
      ],
      "execution_count": null,
      "outputs": [
        {
          "output_type": "display_data",
          "data": {
            "image/png": "[encoded data removed]",
            "text/plain": [
              "<Figure size 432x288 with 1 Axes>"
            ]
          },
          "metadata": {
            "tags": [],
            "needs_background": "light"
          }
        },
        {
          "output_type": "display_data",
          "data": {
            "image/png": "[encoded data removed]",
            "text/plain": [
              "<Figure size 432x288 with 1 Axes>"
            ]
          },
          "metadata": {
            "tags": [],
            "needs_background": "light"
          }
        }
      ]
    },
    {
      "cell_type": "markdown",
      "metadata": {
        "id": "zhrD6-n4EVre"
      },
      "source": [
        "#Calculating AUC of ROC for the deep learning model\n",
        "\n",
        "The results are extremely similar to the results of the logistic regression; but again, this model requires much more training and and fine tuning which may or may not be worth it depending on the time/resource limits and context (for example, if we were detecting some diseases in an x-ray/MRI, a 0.2% increase in accuracy should be worth it since we are making something that impacts human lives)"
      ]
    },
    {
      "cell_type": "code",
      "metadata": {
        "id": "GjqzDHQFmpdT"
      },
      "source": [
        "#Make predictions on training set\n",
        "preds_train = model.predict(x_train)\n",
        "\n",
        "#Make predictions on test set\n",
        "preds_test = model.predict(x_test)"
      ],
      "execution_count": null,
      "outputs": []
    },
    {
      "cell_type": "code",
      "metadata": {
        "id": "Ps2McQogmRUd"
      },
      "source": [
        "auc_train = ['Training data']\n",
        "auc_test = ['Testing data']\n",
        "\n",
        "for i, target in zip(range(len(preds_train[0])),target_columns):\n",
        "  y_pred_prob_train = [x[i] for x in preds_train]\n",
        "  y_pred_prob_test = [x[i] for x in preds_test]\n",
        "  auc_train.append(roc_auc_score(train[target],y_pred_prob_train))\n",
        "  auc_test.append(roc_auc_score(df_test_final[target],y_pred_prob_test))\n",
        "\n",
        "  \n"
      ],
      "execution_count": null,
      "outputs": []
    },
    {
      "cell_type": "code",
      "metadata": {
        "colab": {
          "base_uri": "https://localhost:8080/",
          "height": 106
        },
        "id": "BcbCs17I09Nt",
        "outputId": "4634d1b1-afc9-4ef6-d99d-9079395670b2"
      },
      "source": [
        "auc_table = pd.DataFrame([auc_train,auc_test],columns=['Data type','Toxic AUC','Severe Toxic AUC',\n",
        "                                   'Obscene AUC','Threat AUC','Insult AUC','Identity Hate AUC'])\n",
        "\n",
        "auc_table"
      ],
      "execution_count": null,
      "outputs": [
        {
          "output_type": "execute_result",
          "data": {
            "text/html": [
              "<div>\n",
              "<style scoped>\n",
              "    .dataframe tbody tr th:only-of-type {\n",
              "        vertical-align: middle;\n",
              "    }\n",
              "\n",
              "    .dataframe tbody tr th {\n",
              "        vertical-align: top;\n",
              "    }\n",
              "\n",
              "    .dataframe thead th {\n",
              "        text-align: right;\n",
              "    }\n",
              "</style>\n",
              "<table border=\"1\" class=\"dataframe\">\n",
              "  <thead>\n",
              "    <tr style=\"text-align: right;\">\n",
              "      <th></th>\n",
              "      <th>Data type</th>\n",
              "      <th>Toxic AUC</th>\n",
              "      <th>Severe Toxic AUC</th>\n",
              "      <th>Obscene AUC</th>\n",
              "      <th>Threat AUC</th>\n",
              "      <th>Insult AUC</th>\n",
              "      <th>Identity Hate AUC</th>\n",
              "    </tr>\n",
              "  </thead>\n",
              "  <tbody>\n",
              "    <tr>\n",
              "      <th>0</th>\n",
              "      <td>Training data</td>\n",
              "      <td>0.993421</td>\n",
              "      <td>0.994653</td>\n",
              "      <td>0.996532</td>\n",
              "      <td>0.992630</td>\n",
              "      <td>0.993250</td>\n",
              "      <td>0.991102</td>\n",
              "    </tr>\n",
              "    <tr>\n",
              "      <th>1</th>\n",
              "      <td>Testing data</td>\n",
              "      <td>0.954966</td>\n",
              "      <td>0.984569</td>\n",
              "      <td>0.970383</td>\n",
              "      <td>0.977536</td>\n",
              "      <td>0.962457</td>\n",
              "      <td>0.963817</td>\n",
              "    </tr>\n",
              "  </tbody>\n",
              "</table>\n",
              "</div>"
            ],
            "text/plain": [
              "       Data type  Toxic AUC  ...  Insult AUC  Identity Hate AUC\n",
              "0  Training data   0.993421  ...    0.993250           0.991102\n",
              "1   Testing data   0.954966  ...    0.962457           0.963817\n",
              "\n",
              "[2 rows x 7 columns]"
            ]
          },
          "metadata": {
            "tags": []
          },
          "execution_count": 25
        }
      ]
    }
  ]
}